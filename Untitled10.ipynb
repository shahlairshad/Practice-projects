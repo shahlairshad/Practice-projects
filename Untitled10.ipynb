{
 "cells": [
  {
   "cell_type": "markdown",
   "id": "2ac6d824",
   "metadata": {},
   "source": [
    "# WORLD HAPPINESS PROJECT - DATA TRAINED"
   ]
  },
  {
   "cell_type": "markdown",
   "id": "7db87908",
   "metadata": {},
   "source": [
    "## Problem Statement"
   ]
  },
  {
   "cell_type": "markdown",
   "id": "74567105",
   "metadata": {},
   "source": [
    "### To Predict the World Happiness using the features provided in the data"
   ]
  },
  {
   "cell_type": "code",
   "execution_count": 4,
   "id": "973daeb3",
   "metadata": {},
   "outputs": [],
   "source": [
    "import pandas as pd\n",
    "import numpy as np\n",
    "import matplotlib.pyplot as plt\n",
    "import pickle\n",
    "import seaborn as sns\n",
    "import warnings\n",
    "warnings.filterwarnings('ignore')\n",
    "from sklearn.preprocessing import StandardScaler\n",
    "from sklearn.model_selection import train_test_split"
   ]
  },
  {
   "cell_type": "code",
   "execution_count": 5,
   "id": "fba7794a",
   "metadata": {},
   "outputs": [
    {
     "data": {
      "text/html": [
       "<div>\n",
       "<style scoped>\n",
       "    .dataframe tbody tr th:only-of-type {\n",
       "        vertical-align: middle;\n",
       "    }\n",
       "\n",
       "    .dataframe tbody tr th {\n",
       "        vertical-align: top;\n",
       "    }\n",
       "\n",
       "    .dataframe thead th {\n",
       "        text-align: right;\n",
       "    }\n",
       "</style>\n",
       "<table border=\"1\" class=\"dataframe\">\n",
       "  <thead>\n",
       "    <tr style=\"text-align: right;\">\n",
       "      <th></th>\n",
       "      <th>Country</th>\n",
       "      <th>Region</th>\n",
       "      <th>Happiness Rank</th>\n",
       "      <th>Happiness Score</th>\n",
       "      <th>Standard Error</th>\n",
       "      <th>Economy (GDP per Capita)</th>\n",
       "      <th>Family</th>\n",
       "      <th>Health (Life Expectancy)</th>\n",
       "      <th>Freedom</th>\n",
       "      <th>Trust (Government Corruption)</th>\n",
       "      <th>Generosity</th>\n",
       "      <th>Dystopia Residual</th>\n",
       "    </tr>\n",
       "  </thead>\n",
       "  <tbody>\n",
       "    <tr>\n",
       "      <th>0</th>\n",
       "      <td>Switzerland</td>\n",
       "      <td>Western Europe</td>\n",
       "      <td>1</td>\n",
       "      <td>7.587</td>\n",
       "      <td>0.03411</td>\n",
       "      <td>1.39651</td>\n",
       "      <td>1.34951</td>\n",
       "      <td>0.94143</td>\n",
       "      <td>0.66557</td>\n",
       "      <td>0.41978</td>\n",
       "      <td>0.29678</td>\n",
       "      <td>2.51738</td>\n",
       "    </tr>\n",
       "    <tr>\n",
       "      <th>1</th>\n",
       "      <td>Iceland</td>\n",
       "      <td>Western Europe</td>\n",
       "      <td>2</td>\n",
       "      <td>7.561</td>\n",
       "      <td>0.04884</td>\n",
       "      <td>1.30232</td>\n",
       "      <td>1.40223</td>\n",
       "      <td>0.94784</td>\n",
       "      <td>0.62877</td>\n",
       "      <td>0.14145</td>\n",
       "      <td>0.43630</td>\n",
       "      <td>2.70201</td>\n",
       "    </tr>\n",
       "    <tr>\n",
       "      <th>2</th>\n",
       "      <td>Denmark</td>\n",
       "      <td>Western Europe</td>\n",
       "      <td>3</td>\n",
       "      <td>7.527</td>\n",
       "      <td>0.03328</td>\n",
       "      <td>1.32548</td>\n",
       "      <td>1.36058</td>\n",
       "      <td>0.87464</td>\n",
       "      <td>0.64938</td>\n",
       "      <td>0.48357</td>\n",
       "      <td>0.34139</td>\n",
       "      <td>2.49204</td>\n",
       "    </tr>\n",
       "    <tr>\n",
       "      <th>3</th>\n",
       "      <td>Norway</td>\n",
       "      <td>Western Europe</td>\n",
       "      <td>4</td>\n",
       "      <td>7.522</td>\n",
       "      <td>0.03880</td>\n",
       "      <td>1.45900</td>\n",
       "      <td>1.33095</td>\n",
       "      <td>0.88521</td>\n",
       "      <td>0.66973</td>\n",
       "      <td>0.36503</td>\n",
       "      <td>0.34699</td>\n",
       "      <td>2.46531</td>\n",
       "    </tr>\n",
       "    <tr>\n",
       "      <th>4</th>\n",
       "      <td>Canada</td>\n",
       "      <td>North America</td>\n",
       "      <td>5</td>\n",
       "      <td>7.427</td>\n",
       "      <td>0.03553</td>\n",
       "      <td>1.32629</td>\n",
       "      <td>1.32261</td>\n",
       "      <td>0.90563</td>\n",
       "      <td>0.63297</td>\n",
       "      <td>0.32957</td>\n",
       "      <td>0.45811</td>\n",
       "      <td>2.45176</td>\n",
       "    </tr>\n",
       "  </tbody>\n",
       "</table>\n",
       "</div>"
      ],
      "text/plain": [
       "       Country          Region  Happiness Rank  Happiness Score  \\\n",
       "0  Switzerland  Western Europe               1            7.587   \n",
       "1      Iceland  Western Europe               2            7.561   \n",
       "2      Denmark  Western Europe               3            7.527   \n",
       "3       Norway  Western Europe               4            7.522   \n",
       "4       Canada   North America               5            7.427   \n",
       "\n",
       "   Standard Error  Economy (GDP per Capita)   Family  \\\n",
       "0         0.03411                   1.39651  1.34951   \n",
       "1         0.04884                   1.30232  1.40223   \n",
       "2         0.03328                   1.32548  1.36058   \n",
       "3         0.03880                   1.45900  1.33095   \n",
       "4         0.03553                   1.32629  1.32261   \n",
       "\n",
       "   Health (Life Expectancy)  Freedom  Trust (Government Corruption)  \\\n",
       "0                   0.94143  0.66557                        0.41978   \n",
       "1                   0.94784  0.62877                        0.14145   \n",
       "2                   0.87464  0.64938                        0.48357   \n",
       "3                   0.88521  0.66973                        0.36503   \n",
       "4                   0.90563  0.63297                        0.32957   \n",
       "\n",
       "   Generosity  Dystopia Residual  \n",
       "0     0.29678            2.51738  \n",
       "1     0.43630            2.70201  \n",
       "2     0.34139            2.49204  \n",
       "3     0.34699            2.46531  \n",
       "4     0.45811            2.45176  "
      ]
     },
     "execution_count": 5,
     "metadata": {},
     "output_type": "execute_result"
    }
   ],
   "source": [
    "#viewing data from Github\n",
    "\n",
    "df= pd.read_csv(\"https://raw.githubusercontent.com/dsrscientist/DSData/master/happiness_score_dataset.csv\")\n",
    "df.head()"
   ]
  },
  {
   "cell_type": "code",
   "execution_count": 6,
   "id": "46f06180",
   "metadata": {},
   "outputs": [
    {
     "data": {
      "text/plain": [
       "Country                          0\n",
       "Region                           0\n",
       "Happiness Rank                   0\n",
       "Happiness Score                  0\n",
       "Standard Error                   0\n",
       "Economy (GDP per Capita)         0\n",
       "Family                           0\n",
       "Health (Life Expectancy)         0\n",
       "Freedom                          0\n",
       "Trust (Government Corruption)    0\n",
       "Generosity                       0\n",
       "Dystopia Residual                0\n",
       "dtype: int64"
      ]
     },
     "execution_count": 6,
     "metadata": {},
     "output_type": "execute_result"
    }
   ],
   "source": [
    "df.isnull().sum()"
   ]
  },
  {
   "cell_type": "code",
   "execution_count": 7,
   "id": "3d40c17e",
   "metadata": {},
   "outputs": [
    {
     "data": {
      "text/plain": [
       "Switzerland    1\n",
       "Bangladesh     1\n",
       "Greece         1\n",
       "Lebanon        1\n",
       "Hungary        1\n",
       "              ..\n",
       "Kazakhstan     1\n",
       "Slovenia       1\n",
       "Lithuania      1\n",
       "Nicaragua      1\n",
       "Togo           1\n",
       "Name: Country, Length: 158, dtype: int64"
      ]
     },
     "execution_count": 7,
     "metadata": {},
     "output_type": "execute_result"
    }
   ],
   "source": [
    "df[\"Country\"].value_counts()"
   ]
  },
  {
   "cell_type": "code",
   "execution_count": 8,
   "id": "23fd262d",
   "metadata": {},
   "outputs": [
    {
     "data": {
      "text/plain": [
       "(158, 12)"
      ]
     },
     "execution_count": 8,
     "metadata": {},
     "output_type": "execute_result"
    }
   ],
   "source": [
    "#checking shape of the data\n",
    "\n",
    "df.shape"
   ]
  },
  {
   "cell_type": "code",
   "execution_count": 9,
   "id": "78567dcd",
   "metadata": {},
   "outputs": [
    {
     "data": {
      "text/plain": [
       "Index(['Country', 'Region', 'Happiness Rank', 'Happiness Score',\n",
       "       'Standard Error', 'Economy (GDP per Capita)', 'Family',\n",
       "       'Health (Life Expectancy)', 'Freedom', 'Trust (Government Corruption)',\n",
       "       'Generosity', 'Dystopia Residual'],\n",
       "      dtype='object')"
      ]
     },
     "execution_count": 9,
     "metadata": {},
     "output_type": "execute_result"
    }
   ],
   "source": [
    "# extract all column name \n",
    "\n",
    "df.columns"
   ]
  },
  {
   "cell_type": "code",
   "execution_count": 11,
   "id": "fd86c9e8",
   "metadata": {},
   "outputs": [
    {
     "data": {
      "text/html": [
       "<div>\n",
       "<style scoped>\n",
       "    .dataframe tbody tr th:only-of-type {\n",
       "        vertical-align: middle;\n",
       "    }\n",
       "\n",
       "    .dataframe tbody tr th {\n",
       "        vertical-align: top;\n",
       "    }\n",
       "\n",
       "    .dataframe thead th {\n",
       "        text-align: right;\n",
       "    }\n",
       "</style>\n",
       "<table border=\"1\" class=\"dataframe\">\n",
       "  <thead>\n",
       "    <tr style=\"text-align: right;\">\n",
       "      <th></th>\n",
       "      <th>Country</th>\n",
       "      <th>region</th>\n",
       "      <th>Happiness_Rank</th>\n",
       "      <th>Happiness_Score</th>\n",
       "      <th>Std_Error</th>\n",
       "      <th>GDP_per_capita</th>\n",
       "      <th>Family</th>\n",
       "      <th>Health_Life</th>\n",
       "      <th>Freedom</th>\n",
       "      <th>Trust</th>\n",
       "      <th>Generosity</th>\n",
       "      <th>Residual</th>\n",
       "    </tr>\n",
       "  </thead>\n",
       "  <tbody>\n",
       "    <tr>\n",
       "      <th>0</th>\n",
       "      <td>Switzerland</td>\n",
       "      <td>Western Europe</td>\n",
       "      <td>1</td>\n",
       "      <td>7.587</td>\n",
       "      <td>0.03411</td>\n",
       "      <td>1.39651</td>\n",
       "      <td>1.34951</td>\n",
       "      <td>0.94143</td>\n",
       "      <td>0.66557</td>\n",
       "      <td>0.41978</td>\n",
       "      <td>0.29678</td>\n",
       "      <td>2.51738</td>\n",
       "    </tr>\n",
       "    <tr>\n",
       "      <th>1</th>\n",
       "      <td>Iceland</td>\n",
       "      <td>Western Europe</td>\n",
       "      <td>2</td>\n",
       "      <td>7.561</td>\n",
       "      <td>0.04884</td>\n",
       "      <td>1.30232</td>\n",
       "      <td>1.40223</td>\n",
       "      <td>0.94784</td>\n",
       "      <td>0.62877</td>\n",
       "      <td>0.14145</td>\n",
       "      <td>0.43630</td>\n",
       "      <td>2.70201</td>\n",
       "    </tr>\n",
       "    <tr>\n",
       "      <th>2</th>\n",
       "      <td>Denmark</td>\n",
       "      <td>Western Europe</td>\n",
       "      <td>3</td>\n",
       "      <td>7.527</td>\n",
       "      <td>0.03328</td>\n",
       "      <td>1.32548</td>\n",
       "      <td>1.36058</td>\n",
       "      <td>0.87464</td>\n",
       "      <td>0.64938</td>\n",
       "      <td>0.48357</td>\n",
       "      <td>0.34139</td>\n",
       "      <td>2.49204</td>\n",
       "    </tr>\n",
       "    <tr>\n",
       "      <th>3</th>\n",
       "      <td>Norway</td>\n",
       "      <td>Western Europe</td>\n",
       "      <td>4</td>\n",
       "      <td>7.522</td>\n",
       "      <td>0.03880</td>\n",
       "      <td>1.45900</td>\n",
       "      <td>1.33095</td>\n",
       "      <td>0.88521</td>\n",
       "      <td>0.66973</td>\n",
       "      <td>0.36503</td>\n",
       "      <td>0.34699</td>\n",
       "      <td>2.46531</td>\n",
       "    </tr>\n",
       "    <tr>\n",
       "      <th>4</th>\n",
       "      <td>Canada</td>\n",
       "      <td>North America</td>\n",
       "      <td>5</td>\n",
       "      <td>7.427</td>\n",
       "      <td>0.03553</td>\n",
       "      <td>1.32629</td>\n",
       "      <td>1.32261</td>\n",
       "      <td>0.90563</td>\n",
       "      <td>0.63297</td>\n",
       "      <td>0.32957</td>\n",
       "      <td>0.45811</td>\n",
       "      <td>2.45176</td>\n",
       "    </tr>\n",
       "  </tbody>\n",
       "</table>\n",
       "</div>"
      ],
      "text/plain": [
       "       Country          region  Happiness_Rank  Happiness_Score  Std_Error  \\\n",
       "0  Switzerland  Western Europe               1            7.587    0.03411   \n",
       "1      Iceland  Western Europe               2            7.561    0.04884   \n",
       "2      Denmark  Western Europe               3            7.527    0.03328   \n",
       "3       Norway  Western Europe               4            7.522    0.03880   \n",
       "4       Canada   North America               5            7.427    0.03553   \n",
       "\n",
       "   GDP_per_capita   Family  Health_Life  Freedom    Trust  Generosity  \\\n",
       "0         1.39651  1.34951      0.94143  0.66557  0.41978     0.29678   \n",
       "1         1.30232  1.40223      0.94784  0.62877  0.14145     0.43630   \n",
       "2         1.32548  1.36058      0.87464  0.64938  0.48357     0.34139   \n",
       "3         1.45900  1.33095      0.88521  0.66973  0.36503     0.34699   \n",
       "4         1.32629  1.32261      0.90563  0.63297  0.32957     0.45811   \n",
       "\n",
       "   Residual  \n",
       "0   2.51738  \n",
       "1   2.70201  \n",
       "2   2.49204  \n",
       "3   2.46531  \n",
       "4   2.45176  "
      ]
     },
     "execution_count": 11,
     "metadata": {},
     "output_type": "execute_result"
    }
   ],
   "source": [
    "# renaming the actual column with some revised name\n",
    "df.columns= [\"Country\", \"region\", \"Happiness_Rank\", \"Happiness_Score\", \"Std_Error\", \"GDP_per_capita\",\"Family\", \"Health_Life\", \"Freedom\", \"Trust\", \"Generosity\", \"Residual\"]\n",
    "df.head()"
   ]
  },
  {
   "cell_type": "code",
   "execution_count": 12,
   "id": "56909ba0",
   "metadata": {},
   "outputs": [
    {
     "data": {
      "text/html": [
       "<div>\n",
       "<style scoped>\n",
       "    .dataframe tbody tr th:only-of-type {\n",
       "        vertical-align: middle;\n",
       "    }\n",
       "\n",
       "    .dataframe tbody tr th {\n",
       "        vertical-align: top;\n",
       "    }\n",
       "\n",
       "    .dataframe thead th {\n",
       "        text-align: right;\n",
       "    }\n",
       "</style>\n",
       "<table border=\"1\" class=\"dataframe\">\n",
       "  <thead>\n",
       "    <tr style=\"text-align: right;\">\n",
       "      <th></th>\n",
       "      <th>Happiness_Rank</th>\n",
       "      <th>Happiness_Score</th>\n",
       "      <th>Std_Error</th>\n",
       "      <th>GDP_per_capita</th>\n",
       "      <th>Family</th>\n",
       "      <th>Health_Life</th>\n",
       "      <th>Freedom</th>\n",
       "      <th>Trust</th>\n",
       "      <th>Generosity</th>\n",
       "      <th>Residual</th>\n",
       "    </tr>\n",
       "  </thead>\n",
       "  <tbody>\n",
       "    <tr>\n",
       "      <th>count</th>\n",
       "      <td>158.000000</td>\n",
       "      <td>158.000000</td>\n",
       "      <td>158.000000</td>\n",
       "      <td>158.000000</td>\n",
       "      <td>158.000000</td>\n",
       "      <td>158.000000</td>\n",
       "      <td>158.000000</td>\n",
       "      <td>158.000000</td>\n",
       "      <td>158.000000</td>\n",
       "      <td>158.000000</td>\n",
       "    </tr>\n",
       "    <tr>\n",
       "      <th>mean</th>\n",
       "      <td>79.493671</td>\n",
       "      <td>5.375734</td>\n",
       "      <td>0.047885</td>\n",
       "      <td>0.846137</td>\n",
       "      <td>0.991046</td>\n",
       "      <td>0.630259</td>\n",
       "      <td>0.428615</td>\n",
       "      <td>0.143422</td>\n",
       "      <td>0.237296</td>\n",
       "      <td>2.098977</td>\n",
       "    </tr>\n",
       "    <tr>\n",
       "      <th>std</th>\n",
       "      <td>45.754363</td>\n",
       "      <td>1.145010</td>\n",
       "      <td>0.017146</td>\n",
       "      <td>0.403121</td>\n",
       "      <td>0.272369</td>\n",
       "      <td>0.247078</td>\n",
       "      <td>0.150693</td>\n",
       "      <td>0.120034</td>\n",
       "      <td>0.126685</td>\n",
       "      <td>0.553550</td>\n",
       "    </tr>\n",
       "    <tr>\n",
       "      <th>min</th>\n",
       "      <td>1.000000</td>\n",
       "      <td>2.839000</td>\n",
       "      <td>0.018480</td>\n",
       "      <td>0.000000</td>\n",
       "      <td>0.000000</td>\n",
       "      <td>0.000000</td>\n",
       "      <td>0.000000</td>\n",
       "      <td>0.000000</td>\n",
       "      <td>0.000000</td>\n",
       "      <td>0.328580</td>\n",
       "    </tr>\n",
       "    <tr>\n",
       "      <th>25%</th>\n",
       "      <td>40.250000</td>\n",
       "      <td>4.526000</td>\n",
       "      <td>0.037268</td>\n",
       "      <td>0.545808</td>\n",
       "      <td>0.856823</td>\n",
       "      <td>0.439185</td>\n",
       "      <td>0.328330</td>\n",
       "      <td>0.061675</td>\n",
       "      <td>0.150553</td>\n",
       "      <td>1.759410</td>\n",
       "    </tr>\n",
       "    <tr>\n",
       "      <th>50%</th>\n",
       "      <td>79.500000</td>\n",
       "      <td>5.232500</td>\n",
       "      <td>0.043940</td>\n",
       "      <td>0.910245</td>\n",
       "      <td>1.029510</td>\n",
       "      <td>0.696705</td>\n",
       "      <td>0.435515</td>\n",
       "      <td>0.107220</td>\n",
       "      <td>0.216130</td>\n",
       "      <td>2.095415</td>\n",
       "    </tr>\n",
       "    <tr>\n",
       "      <th>75%</th>\n",
       "      <td>118.750000</td>\n",
       "      <td>6.243750</td>\n",
       "      <td>0.052300</td>\n",
       "      <td>1.158448</td>\n",
       "      <td>1.214405</td>\n",
       "      <td>0.811013</td>\n",
       "      <td>0.549092</td>\n",
       "      <td>0.180255</td>\n",
       "      <td>0.309883</td>\n",
       "      <td>2.462415</td>\n",
       "    </tr>\n",
       "    <tr>\n",
       "      <th>max</th>\n",
       "      <td>158.000000</td>\n",
       "      <td>7.587000</td>\n",
       "      <td>0.136930</td>\n",
       "      <td>1.690420</td>\n",
       "      <td>1.402230</td>\n",
       "      <td>1.025250</td>\n",
       "      <td>0.669730</td>\n",
       "      <td>0.551910</td>\n",
       "      <td>0.795880</td>\n",
       "      <td>3.602140</td>\n",
       "    </tr>\n",
       "  </tbody>\n",
       "</table>\n",
       "</div>"
      ],
      "text/plain": [
       "       Happiness_Rank  Happiness_Score   Std_Error  GDP_per_capita  \\\n",
       "count      158.000000       158.000000  158.000000      158.000000   \n",
       "mean        79.493671         5.375734    0.047885        0.846137   \n",
       "std         45.754363         1.145010    0.017146        0.403121   \n",
       "min          1.000000         2.839000    0.018480        0.000000   \n",
       "25%         40.250000         4.526000    0.037268        0.545808   \n",
       "50%         79.500000         5.232500    0.043940        0.910245   \n",
       "75%        118.750000         6.243750    0.052300        1.158448   \n",
       "max        158.000000         7.587000    0.136930        1.690420   \n",
       "\n",
       "           Family  Health_Life     Freedom       Trust  Generosity    Residual  \n",
       "count  158.000000   158.000000  158.000000  158.000000  158.000000  158.000000  \n",
       "mean     0.991046     0.630259    0.428615    0.143422    0.237296    2.098977  \n",
       "std      0.272369     0.247078    0.150693    0.120034    0.126685    0.553550  \n",
       "min      0.000000     0.000000    0.000000    0.000000    0.000000    0.328580  \n",
       "25%      0.856823     0.439185    0.328330    0.061675    0.150553    1.759410  \n",
       "50%      1.029510     0.696705    0.435515    0.107220    0.216130    2.095415  \n",
       "75%      1.214405     0.811013    0.549092    0.180255    0.309883    2.462415  \n",
       "max      1.402230     1.025250    0.669730    0.551910    0.795880    3.602140  "
      ]
     },
     "execution_count": 12,
     "metadata": {},
     "output_type": "execute_result"
    }
   ],
   "source": [
    "#checking basic statistical details\n",
    "\n",
    "df.describe() "
   ]
  },
  {
   "cell_type": "code",
   "execution_count": 13,
   "id": "33296222",
   "metadata": {},
   "outputs": [
    {
     "data": {
      "text/plain": [
       "0"
      ]
     },
     "execution_count": 13,
     "metadata": {},
     "output_type": "execute_result"
    }
   ],
   "source": [
    "# checking for duplicate value\n",
    "\n",
    "df.duplicated().sum()"
   ]
  },
  {
   "cell_type": "code",
   "execution_count": 16,
   "id": "3af79a5c",
   "metadata": {},
   "outputs": [
    {
     "data": {
      "text/plain": [
       "array([[<AxesSubplot:title={'center':'Happiness_Rank'}>,\n",
       "        <AxesSubplot:title={'center':'Happiness_Score'}>,\n",
       "        <AxesSubplot:title={'center':'Std_Error'}>],\n",
       "       [<AxesSubplot:title={'center':'GDP_per_capita'}>,\n",
       "        <AxesSubplot:title={'center':'Family'}>,\n",
       "        <AxesSubplot:title={'center':'Health_Life'}>],\n",
       "       [<AxesSubplot:title={'center':'Freedom'}>,\n",
       "        <AxesSubplot:title={'center':'Trust'}>,\n",
       "        <AxesSubplot:title={'center':'Generosity'}>],\n",
       "       [<AxesSubplot:title={'center':'Residual'}>, <AxesSubplot:>,\n",
       "        <AxesSubplot:>]], dtype=object)"
      ]
     },
     "execution_count": 16,
     "metadata": {},
     "output_type": "execute_result"
    },
    {
     "data": {
      "image/png": "[encoded data removed]",
      "text/plain": [
       "<Figure size 1440x1080 with 12 Axes>"
      ]
     },
     "metadata": {
      "needs_background": "light"
     },
     "output_type": "display_data"
    }
   ],
   "source": [
    "# checking the frequency distribution of the variables\n",
    "\n",
    "data.hist(bins=30, figsize=(20, 15))"
   ]
  },
  {
   "cell_type": "code",
   "execution_count": 14,
   "id": "913b7354",
   "metadata": {},
   "outputs": [
    {
     "data": {
      "image/png": "[encoded data removed]",
      "text/plain": [
       "<Figure size 1440x1080 with 10 Axes>"
      ]
     },
     "metadata": {
      "needs_background": "light"
     },
     "output_type": "display_data"
    }
   ],
   "source": [
    "# checking for outliers using boxplots\n",
    "\n",
    "data1= df.drop(columns= [\"Country\",\"region\"]) # drop the categorical columns for boxplot\n",
    "plt.figure(figsize=(20,15))\n",
    "plno=1\n",
    "for x in data1:\n",
    "    if plno<=10:\n",
    "        plt.subplot(2,5,plno)\n",
    "        sns.boxplot(data=data1[x])\n",
    "        plt.xlabel (x, fontsize= 10)\n",
    "    plno+=1\n",
    "plt.tight_layout()"
   ]
  },
  {
   "cell_type": "markdown",
   "id": "e75e4ef8",
   "metadata": {},
   "source": [
    "\n",
    "In Trust (Trust (Government Corruption))and std_error columns have too mant outliers.\n",
    "\n",
    "So that, we can check for the correlation and then drop the irrelevant column from the dataset if required.\n"
   ]
  },
  {
   "cell_type": "code",
   "execution_count": 16,
   "id": "985d2986",
   "metadata": {},
   "outputs": [
    {
     "data": {
      "text/plain": [
       "<AxesSubplot:>"
      ]
     },
     "execution_count": 16,
     "metadata": {},
     "output_type": "execute_result"
    },
    {
     "data": {
      "image/png": "[encoded data removed]",
      "text/plain": [
       "<Figure size 1080x720 with 2 Axes>"
      ]
     },
     "metadata": {
      "needs_background": "light"
     },
     "output_type": "display_data"
    }
   ],
   "source": [
    "# Checking correlation between the features to decide which features affect the target variable the most\n",
    "\n",
    "plt.figure(figsize=(15, 10))\n",
    "\n",
    "sns.heatmap(df.corr(), annot= True, linecolor='black', linewidths=3)"
   ]
  },
  {
   "cell_type": "markdown",
   "id": "2c657175",
   "metadata": {},
   "source": [
    "\n",
    "\n",
    "Happiness Score highly correlates with GDP per capita, Health_Life and Family.\n",
    "\n",
    "The lighter the box, the stronger/higher the correlation.\n"
   ]
  },
  {
   "cell_type": "code",
   "execution_count": 17,
   "id": "f705565a",
   "metadata": {},
   "outputs": [
    {
     "data": {
      "image/png": "[encoded data removed]",
      "text/plain": [
       "<Figure size 432x288 with 1 Axes>"
      ]
     },
     "metadata": {
      "needs_background": "light"
     },
     "output_type": "display_data"
    }
   ],
   "source": [
    "# seems Health_Life  and GDP_per_capita is correlated. let's check\n",
    "plt.scatter(df.Health_Life, df.GDP_per_capita)\n",
    "plt.xlabel(\"Health_Life\")\n",
    "plt.ylabel(\"GDP_per_capita\")\n",
    "plt.show()"
   ]
  },
  {
   "cell_type": "markdown",
   "id": "3f190959",
   "metadata": {},
   "source": [
    "\n",
    "\n",
    "Health_Life and GDP_per_capita is correlated. But Happiness_Score is very strongly correlated with both of them.\n",
    "\n",
    "So both of them are kept.\n"
   ]
  },
  {
   "cell_type": "code",
   "execution_count": 19,
   "id": "10353752",
   "metadata": {},
   "outputs": [
    {
     "data": {
      "image/png": "[encoded data removed]",
      "text/plain": [
       "<Figure size 432x288 with 1 Axes>"
      ]
     },
     "metadata": {
      "needs_background": "light"
     },
     "output_type": "display_data"
    }
   ],
   "source": [
    "# seems Std_Error and Happiness_Rank is very less correlated. let's check.\n",
    "\n",
    "plt.scatter(df.Std_Error, df.Happiness_Score)\n",
    "plt.xlabel(\"Std_Error\")\n",
    "plt.ylabel(\"Happiness_Score\")\n",
    "plt.show()"
   ]
  },
  {
   "cell_type": "markdown",
   "id": "fae82f14",
   "metadata": {},
   "source": [
    "\n",
    "\n",
    "No relation is found between Std_Error and Happiness_Rank as there is no pattern.\n",
    "\n",
    "Drop the column Std_Error.\n"
   ]
  },
  {
   "cell_type": "code",
   "execution_count": 20,
   "id": "1b0962bf",
   "metadata": {},
   "outputs": [
    {
     "data": {
      "image/png": "[encoded data removed]",
      "text/plain": [
       "<Figure size 432x288 with 1 Axes>"
      ]
     },
     "metadata": {
      "needs_background": "light"
     },
     "output_type": "display_data"
    }
   ],
   "source": [
    "# seems Residual and Happiness_Rank is very less correlated. let's check.\n",
    "\n",
    "plt.scatter(df.Generosity, df.Happiness_Score)\n",
    "plt.xlabel(\"Generosity\")\n",
    "plt.ylabel(\"Happiness_Score\")\n",
    "plt.show()"
   ]
  },
  {
   "cell_type": "markdown",
   "id": "ca5e60f5",
   "metadata": {},
   "source": [
    "\n",
    "\n",
    "Correlation is not found between Generosity and Happiness_Rank as there is no pattern.\n",
    "\n",
    "Drop the column Generosity.\n"
   ]
  },
  {
   "cell_type": "code",
   "execution_count": 21,
   "id": "70b8b632",
   "metadata": {},
   "outputs": [
    {
     "data": {
      "text/html": [
       "<div>\n",
       "<style scoped>\n",
       "    .dataframe tbody tr th:only-of-type {\n",
       "        vertical-align: middle;\n",
       "    }\n",
       "\n",
       "    .dataframe tbody tr th {\n",
       "        vertical-align: top;\n",
       "    }\n",
       "\n",
       "    .dataframe thead th {\n",
       "        text-align: right;\n",
       "    }\n",
       "</style>\n",
       "<table border=\"1\" class=\"dataframe\">\n",
       "  <thead>\n",
       "    <tr style=\"text-align: right;\">\n",
       "      <th></th>\n",
       "      <th>Country</th>\n",
       "      <th>Happiness_Rank</th>\n",
       "      <th>Happiness_Score</th>\n",
       "      <th>GDP_per_capita</th>\n",
       "      <th>Family</th>\n",
       "      <th>Health_Life</th>\n",
       "      <th>Freedom</th>\n",
       "      <th>Trust</th>\n",
       "      <th>Residual</th>\n",
       "    </tr>\n",
       "  </thead>\n",
       "  <tbody>\n",
       "    <tr>\n",
       "      <th>0</th>\n",
       "      <td>Switzerland</td>\n",
       "      <td>1</td>\n",
       "      <td>7.587</td>\n",
       "      <td>1.39651</td>\n",
       "      <td>1.34951</td>\n",
       "      <td>0.94143</td>\n",
       "      <td>0.66557</td>\n",
       "      <td>0.41978</td>\n",
       "      <td>2.51738</td>\n",
       "    </tr>\n",
       "    <tr>\n",
       "      <th>1</th>\n",
       "      <td>Iceland</td>\n",
       "      <td>2</td>\n",
       "      <td>7.561</td>\n",
       "      <td>1.30232</td>\n",
       "      <td>1.40223</td>\n",
       "      <td>0.94784</td>\n",
       "      <td>0.62877</td>\n",
       "      <td>0.14145</td>\n",
       "      <td>2.70201</td>\n",
       "    </tr>\n",
       "    <tr>\n",
       "      <th>2</th>\n",
       "      <td>Denmark</td>\n",
       "      <td>3</td>\n",
       "      <td>7.527</td>\n",
       "      <td>1.32548</td>\n",
       "      <td>1.36058</td>\n",
       "      <td>0.87464</td>\n",
       "      <td>0.64938</td>\n",
       "      <td>0.48357</td>\n",
       "      <td>2.49204</td>\n",
       "    </tr>\n",
       "    <tr>\n",
       "      <th>3</th>\n",
       "      <td>Norway</td>\n",
       "      <td>4</td>\n",
       "      <td>7.522</td>\n",
       "      <td>1.45900</td>\n",
       "      <td>1.33095</td>\n",
       "      <td>0.88521</td>\n",
       "      <td>0.66973</td>\n",
       "      <td>0.36503</td>\n",
       "      <td>2.46531</td>\n",
       "    </tr>\n",
       "    <tr>\n",
       "      <th>4</th>\n",
       "      <td>Canada</td>\n",
       "      <td>5</td>\n",
       "      <td>7.427</td>\n",
       "      <td>1.32629</td>\n",
       "      <td>1.32261</td>\n",
       "      <td>0.90563</td>\n",
       "      <td>0.63297</td>\n",
       "      <td>0.32957</td>\n",
       "      <td>2.45176</td>\n",
       "    </tr>\n",
       "  </tbody>\n",
       "</table>\n",
       "</div>"
      ],
      "text/plain": [
       "       Country  Happiness_Rank  Happiness_Score  GDP_per_capita   Family  \\\n",
       "0  Switzerland               1            7.587         1.39651  1.34951   \n",
       "1      Iceland               2            7.561         1.30232  1.40223   \n",
       "2      Denmark               3            7.527         1.32548  1.36058   \n",
       "3       Norway               4            7.522         1.45900  1.33095   \n",
       "4       Canada               5            7.427         1.32629  1.32261   \n",
       "\n",
       "   Health_Life  Freedom    Trust  Residual  \n",
       "0      0.94143  0.66557  0.41978   2.51738  \n",
       "1      0.94784  0.62877  0.14145   2.70201  \n",
       "2      0.87464  0.64938  0.48357   2.49204  \n",
       "3      0.88521  0.66973  0.36503   2.46531  \n",
       "4      0.90563  0.63297  0.32957   2.45176  "
      ]
     },
     "execution_count": 21,
     "metadata": {},
     "output_type": "execute_result"
    }
   ],
   "source": [
    "# dropping irrelevant columns for those Happiness_Rank is very less correlated\n",
    "\n",
    "df.drop(columns=['Std_Error', 'region', 'Generosity'], inplace= True)\n",
    "df.head()"
   ]
  },
  {
   "cell_type": "code",
   "execution_count": 23,
   "id": "ab8469a5",
   "metadata": {},
   "outputs": [
    {
     "data": {
      "image/png": "[encoded data removed]",
      "text/plain": [
       "<Figure size 1440x1080 with 8 Axes>"
      ]
     },
     "metadata": {
      "needs_background": "light"
     },
     "output_type": "display_data"
    }
   ],
   "source": [
    "data1= df.drop(columns= [\"Country\"]) # drop the categorical column for boxplot\n",
    "plt.figure(figsize=(20,15))\n",
    "plno=1\n",
    "for x in data1:\n",
    "    if plno<=10:\n",
    "        plt.subplot(2,4,plno)\n",
    "        sns.boxplot(data=data1[x])\n",
    "        plt.xlabel (x, fontsize= 10)\n",
    "    plno+=1\n",
    "plt.tight_layout()"
   ]
  },
  {
   "cell_type": "markdown",
   "id": "e5cefc7c",
   "metadata": {},
   "source": [
    "\n",
    "\n",
    "Too much outliers are present in Trust after deleting 'Std_Error', 'region', 'Generosity'.\n",
    "\n",
    "Let's remove all the outliers from Trust column.\n"
   ]
  },
  {
   "cell_type": "code",
   "execution_count": 27,
   "id": "c695a09e",
   "metadata": {},
   "outputs": [],
   "source": [
    "#1st quantile\n",
    "q1= df. quantile(0.25)\n",
    "#3rd quantile\n",
    "q3= df. quantile(0.75)\n",
    "#IQR\n",
    "iqr= q3-q1"
   ]
  },
  {
   "cell_type": "code",
   "execution_count": 28,
   "id": "2160e31f",
   "metadata": {},
   "outputs": [
    {
     "data": {
      "text/html": [
       "<div>\n",
       "<style scoped>\n",
       "    .dataframe tbody tr th:only-of-type {\n",
       "        vertical-align: middle;\n",
       "    }\n",
       "\n",
       "    .dataframe tbody tr th {\n",
       "        vertical-align: top;\n",
       "    }\n",
       "\n",
       "    .dataframe thead th {\n",
       "        text-align: right;\n",
       "    }\n",
       "</style>\n",
       "<table border=\"1\" class=\"dataframe\">\n",
       "  <thead>\n",
       "    <tr style=\"text-align: right;\">\n",
       "      <th></th>\n",
       "      <th>index</th>\n",
       "      <th>Country</th>\n",
       "      <th>Happiness_Rank</th>\n",
       "      <th>Happiness_Score</th>\n",
       "      <th>GDP_per_capita</th>\n",
       "      <th>Family</th>\n",
       "      <th>Health_Life</th>\n",
       "      <th>Freedom</th>\n",
       "      <th>Trust</th>\n",
       "      <th>Residual</th>\n",
       "    </tr>\n",
       "  </thead>\n",
       "  <tbody>\n",
       "    <tr>\n",
       "      <th>0</th>\n",
       "      <td>1</td>\n",
       "      <td>Iceland</td>\n",
       "      <td>2</td>\n",
       "      <td>7.561</td>\n",
       "      <td>1.30232</td>\n",
       "      <td>1.40223</td>\n",
       "      <td>0.94784</td>\n",
       "      <td>0.62877</td>\n",
       "      <td>0.14145</td>\n",
       "      <td>2.70201</td>\n",
       "    </tr>\n",
       "    <tr>\n",
       "      <th>1</th>\n",
       "      <td>4</td>\n",
       "      <td>Canada</td>\n",
       "      <td>5</td>\n",
       "      <td>7.427</td>\n",
       "      <td>1.32629</td>\n",
       "      <td>1.32261</td>\n",
       "      <td>0.90563</td>\n",
       "      <td>0.63297</td>\n",
       "      <td>0.32957</td>\n",
       "      <td>2.45176</td>\n",
       "    </tr>\n",
       "    <tr>\n",
       "      <th>2</th>\n",
       "      <td>6</td>\n",
       "      <td>Netherlands</td>\n",
       "      <td>7</td>\n",
       "      <td>7.378</td>\n",
       "      <td>1.32944</td>\n",
       "      <td>1.28017</td>\n",
       "      <td>0.89284</td>\n",
       "      <td>0.61576</td>\n",
       "      <td>0.31814</td>\n",
       "      <td>2.46570</td>\n",
       "    </tr>\n",
       "    <tr>\n",
       "      <th>3</th>\n",
       "      <td>9</td>\n",
       "      <td>Australia</td>\n",
       "      <td>10</td>\n",
       "      <td>7.284</td>\n",
       "      <td>1.33358</td>\n",
       "      <td>1.30923</td>\n",
       "      <td>0.93156</td>\n",
       "      <td>0.65124</td>\n",
       "      <td>0.35637</td>\n",
       "      <td>2.26646</td>\n",
       "    </tr>\n",
       "    <tr>\n",
       "      <th>4</th>\n",
       "      <td>10</td>\n",
       "      <td>Israel</td>\n",
       "      <td>11</td>\n",
       "      <td>7.278</td>\n",
       "      <td>1.22857</td>\n",
       "      <td>1.22393</td>\n",
       "      <td>0.91387</td>\n",
       "      <td>0.41319</td>\n",
       "      <td>0.07785</td>\n",
       "      <td>3.08854</td>\n",
       "    </tr>\n",
       "    <tr>\n",
       "      <th>...</th>\n",
       "      <td>...</td>\n",
       "      <td>...</td>\n",
       "      <td>...</td>\n",
       "      <td>...</td>\n",
       "      <td>...</td>\n",
       "      <td>...</td>\n",
       "      <td>...</td>\n",
       "      <td>...</td>\n",
       "      <td>...</td>\n",
       "      <td>...</td>\n",
       "    </tr>\n",
       "    <tr>\n",
       "      <th>139</th>\n",
       "      <td>152</td>\n",
       "      <td>Afghanistan</td>\n",
       "      <td>153</td>\n",
       "      <td>3.575</td>\n",
       "      <td>0.31982</td>\n",
       "      <td>0.30285</td>\n",
       "      <td>0.30335</td>\n",
       "      <td>0.23414</td>\n",
       "      <td>0.09719</td>\n",
       "      <td>1.95210</td>\n",
       "    </tr>\n",
       "    <tr>\n",
       "      <th>140</th>\n",
       "      <td>154</td>\n",
       "      <td>Benin</td>\n",
       "      <td>155</td>\n",
       "      <td>3.340</td>\n",
       "      <td>0.28665</td>\n",
       "      <td>0.35386</td>\n",
       "      <td>0.31910</td>\n",
       "      <td>0.48450</td>\n",
       "      <td>0.08010</td>\n",
       "      <td>1.63328</td>\n",
       "    </tr>\n",
       "    <tr>\n",
       "      <th>141</th>\n",
       "      <td>155</td>\n",
       "      <td>Syria</td>\n",
       "      <td>156</td>\n",
       "      <td>3.006</td>\n",
       "      <td>0.66320</td>\n",
       "      <td>0.47489</td>\n",
       "      <td>0.72193</td>\n",
       "      <td>0.15684</td>\n",
       "      <td>0.18906</td>\n",
       "      <td>0.32858</td>\n",
       "    </tr>\n",
       "    <tr>\n",
       "      <th>142</th>\n",
       "      <td>156</td>\n",
       "      <td>Burundi</td>\n",
       "      <td>157</td>\n",
       "      <td>2.905</td>\n",
       "      <td>0.01530</td>\n",
       "      <td>0.41587</td>\n",
       "      <td>0.22396</td>\n",
       "      <td>0.11850</td>\n",
       "      <td>0.10062</td>\n",
       "      <td>1.83302</td>\n",
       "    </tr>\n",
       "    <tr>\n",
       "      <th>143</th>\n",
       "      <td>157</td>\n",
       "      <td>Togo</td>\n",
       "      <td>158</td>\n",
       "      <td>2.839</td>\n",
       "      <td>0.20868</td>\n",
       "      <td>0.13995</td>\n",
       "      <td>0.28443</td>\n",
       "      <td>0.36453</td>\n",
       "      <td>0.10731</td>\n",
       "      <td>1.56726</td>\n",
       "    </tr>\n",
       "  </tbody>\n",
       "</table>\n",
       "<p>144 rows × 10 columns</p>\n",
       "</div>"
      ],
      "text/plain": [
       "     index      Country  Happiness_Rank  Happiness_Score  GDP_per_capita  \\\n",
       "0        1      Iceland               2            7.561         1.30232   \n",
       "1        4       Canada               5            7.427         1.32629   \n",
       "2        6  Netherlands               7            7.378         1.32944   \n",
       "3        9    Australia              10            7.284         1.33358   \n",
       "4       10       Israel              11            7.278         1.22857   \n",
       "..     ...          ...             ...              ...             ...   \n",
       "139    152  Afghanistan             153            3.575         0.31982   \n",
       "140    154        Benin             155            3.340         0.28665   \n",
       "141    155        Syria             156            3.006         0.66320   \n",
       "142    156      Burundi             157            2.905         0.01530   \n",
       "143    157         Togo             158            2.839         0.20868   \n",
       "\n",
       "      Family  Health_Life  Freedom    Trust  Residual  \n",
       "0    1.40223      0.94784  0.62877  0.14145   2.70201  \n",
       "1    1.32261      0.90563  0.63297  0.32957   2.45176  \n",
       "2    1.28017      0.89284  0.61576  0.31814   2.46570  \n",
       "3    1.30923      0.93156  0.65124  0.35637   2.26646  \n",
       "4    1.22393      0.91387  0.41319  0.07785   3.08854  \n",
       "..       ...          ...      ...      ...       ...  \n",
       "139  0.30285      0.30335  0.23414  0.09719   1.95210  \n",
       "140  0.35386      0.31910  0.48450  0.08010   1.63328  \n",
       "141  0.47489      0.72193  0.15684  0.18906   0.32858  \n",
       "142  0.41587      0.22396  0.11850  0.10062   1.83302  \n",
       "143  0.13995      0.28443  0.36453  0.10731   1.56726  \n",
       "\n",
       "[144 rows x 10 columns]"
      ]
     },
     "execution_count": 28,
     "metadata": {},
     "output_type": "execute_result"
    }
   ],
   "source": [
    "# determine higher value (Trust_h) from Trust column using IQR \n",
    "\n",
    "Trust_h=(q3.Trust+(1.5*iqr.Trust))\n",
    "\n",
    "# Extract the index no of the data for which the Trust value is higher than Trust_h\n",
    "\n",
    "index=np.where(df['Trust']>Trust_h)\n",
    "\n",
    "#Drop the data with the specified index number\n",
    "\n",
    "df=df.drop(df.index[index])\n",
    "\n",
    "#Reset the index number\n",
    "\n",
    "df.reset_index()"
   ]
  },
  {
   "cell_type": "markdown",
   "id": "813f9ace",
   "metadata": {},
   "source": [
    "## MODELING & PREDICTION"
   ]
  },
  {
   "cell_type": "markdown",
   "id": "3c0b738f",
   "metadata": {},
   "source": [
    "Data cleaning is over now.\n",
    "Let's construct the model."
   ]
  },
  {
   "cell_type": "markdown",
   "id": "5a888ca1",
   "metadata": {},
   "source": [
    "Drop any categorical variables(Country) and the happiness rank as it is irrelevant."
   ]
  },
  {
   "cell_type": "code",
   "execution_count": 29,
   "id": "6b272502",
   "metadata": {},
   "outputs": [
    {
     "data": {
      "text/html": [
       "<div>\n",
       "<style scoped>\n",
       "    .dataframe tbody tr th:only-of-type {\n",
       "        vertical-align: middle;\n",
       "    }\n",
       "\n",
       "    .dataframe tbody tr th {\n",
       "        vertical-align: top;\n",
       "    }\n",
       "\n",
       "    .dataframe thead th {\n",
       "        text-align: right;\n",
       "    }\n",
       "</style>\n",
       "<table border=\"1\" class=\"dataframe\">\n",
       "  <thead>\n",
       "    <tr style=\"text-align: right;\">\n",
       "      <th></th>\n",
       "      <th>Happiness_Score</th>\n",
       "      <th>GDP_per_capita</th>\n",
       "      <th>Family</th>\n",
       "      <th>Health_Life</th>\n",
       "      <th>Freedom</th>\n",
       "      <th>Trust</th>\n",
       "      <th>Residual</th>\n",
       "    </tr>\n",
       "  </thead>\n",
       "  <tbody>\n",
       "    <tr>\n",
       "      <th>1</th>\n",
       "      <td>7.561</td>\n",
       "      <td>1.30232</td>\n",
       "      <td>1.40223</td>\n",
       "      <td>0.94784</td>\n",
       "      <td>0.62877</td>\n",
       "      <td>0.14145</td>\n",
       "      <td>2.70201</td>\n",
       "    </tr>\n",
       "    <tr>\n",
       "      <th>4</th>\n",
       "      <td>7.427</td>\n",
       "      <td>1.32629</td>\n",
       "      <td>1.32261</td>\n",
       "      <td>0.90563</td>\n",
       "      <td>0.63297</td>\n",
       "      <td>0.32957</td>\n",
       "      <td>2.45176</td>\n",
       "    </tr>\n",
       "    <tr>\n",
       "      <th>6</th>\n",
       "      <td>7.378</td>\n",
       "      <td>1.32944</td>\n",
       "      <td>1.28017</td>\n",
       "      <td>0.89284</td>\n",
       "      <td>0.61576</td>\n",
       "      <td>0.31814</td>\n",
       "      <td>2.46570</td>\n",
       "    </tr>\n",
       "    <tr>\n",
       "      <th>9</th>\n",
       "      <td>7.284</td>\n",
       "      <td>1.33358</td>\n",
       "      <td>1.30923</td>\n",
       "      <td>0.93156</td>\n",
       "      <td>0.65124</td>\n",
       "      <td>0.35637</td>\n",
       "      <td>2.26646</td>\n",
       "    </tr>\n",
       "    <tr>\n",
       "      <th>10</th>\n",
       "      <td>7.278</td>\n",
       "      <td>1.22857</td>\n",
       "      <td>1.22393</td>\n",
       "      <td>0.91387</td>\n",
       "      <td>0.41319</td>\n",
       "      <td>0.07785</td>\n",
       "      <td>3.08854</td>\n",
       "    </tr>\n",
       "  </tbody>\n",
       "</table>\n",
       "</div>"
      ],
      "text/plain": [
       "    Happiness_Score  GDP_per_capita   Family  Health_Life  Freedom    Trust  \\\n",
       "1             7.561         1.30232  1.40223      0.94784  0.62877  0.14145   \n",
       "4             7.427         1.32629  1.32261      0.90563  0.63297  0.32957   \n",
       "6             7.378         1.32944  1.28017      0.89284  0.61576  0.31814   \n",
       "9             7.284         1.33358  1.30923      0.93156  0.65124  0.35637   \n",
       "10            7.278         1.22857  1.22393      0.91387  0.41319  0.07785   \n",
       "\n",
       "    Residual  \n",
       "1    2.70201  \n",
       "4    2.45176  \n",
       "6    2.46570  \n",
       "9    2.26646  \n",
       "10   3.08854  "
      ]
     },
     "execution_count": 29,
     "metadata": {},
     "output_type": "execute_result"
    }
   ],
   "source": [
    "new_data = df.drop(['Country', 'Happiness_Rank'], axis=1)\n",
    "\n",
    "new_data.head()"
   ]
  },
  {
   "cell_type": "code",
   "execution_count": 30,
   "id": "6ac8ed12",
   "metadata": {},
   "outputs": [
    {
     "name": "stdout",
     "output_type": "stream",
     "text": [
      "<class 'pandas.core.frame.DataFrame'>\n",
      "Int64Index: 144 entries, 1 to 157\n",
      "Data columns (total 7 columns):\n",
      " #   Column           Non-Null Count  Dtype  \n",
      "---  ------           --------------  -----  \n",
      " 0   Happiness_Score  144 non-null    float64\n",
      " 1   GDP_per_capita   144 non-null    float64\n",
      " 2   Family           144 non-null    float64\n",
      " 3   Health_Life      144 non-null    float64\n",
      " 4   Freedom          144 non-null    float64\n",
      " 5   Trust            144 non-null    float64\n",
      " 6   Residual         144 non-null    float64\n",
      "dtypes: float64(7)\n",
      "memory usage: 9.0 KB\n"
     ]
    }
   ],
   "source": [
    "# after cleaning dataset the new dataset is saved as new_data\n",
    "\n",
    "new_data.info()"
   ]
  },
  {
   "cell_type": "code",
   "execution_count": 31,
   "id": "8462eac0",
   "metadata": {},
   "outputs": [],
   "source": [
    "# Let's split x = all features and y = target variable\n",
    "\n",
    "x= new_data.drop(columns=['Happiness_Score'])\n",
    "y = new_data['Happiness_Score']"
   ]
  },
  {
   "cell_type": "markdown",
   "id": "e011e959",
   "metadata": {},
   "source": [
    "\n",
    "\n",
    "Next we need to standarized the data\n",
    "\n",
    "Then split the whole data into training(75%) and testing(25%) sets\n"
   ]
  },
  {
   "cell_type": "code",
   "execution_count": 32,
   "id": "7b23a848",
   "metadata": {},
   "outputs": [],
   "source": [
    "scaler= StandardScaler()\n",
    "x_scaled= scaler.fit_transform(x)\n",
    "\n",
    "# split the whole data\n",
    "\n",
    "x_train, x_test, y_train, y_test = train_test_split(x_scaled , y , test_size = 0.25, random_state = 200)"
   ]
  },
  {
   "cell_type": "markdown",
   "id": "6d57aed4",
   "metadata": {},
   "source": [
    "### TRAINING OF THE MODEL "
   ]
  },
  {
   "cell_type": "markdown",
   "id": "3a30e660",
   "metadata": {},
   "source": [
    "#### Using different algorithms"
   ]
  },
  {
   "cell_type": "markdown",
   "id": "d8d0bf87",
   "metadata": {},
   "source": [
    "Import Linear regression, Decision tree, KNN, Random forest regreesor to train the model."
   ]
  },
  {
   "cell_type": "code",
   "execution_count": 33,
   "id": "4419aa5e",
   "metadata": {},
   "outputs": [
    {
     "name": "stdout",
     "output_type": "stream",
     "text": [
      "All models are trained.\n"
     ]
    }
   ],
   "source": [
    "from sklearn.linear_model import LinearRegression\n",
    "from sklearn.tree import DecisionTreeRegressor\n",
    "from sklearn.neighbors import KNeighborsRegressor\n",
    "from sklearn.ensemble import RandomForestRegressor\n",
    "\n",
    "reg= LinearRegression()\n",
    "dt= DecisionTreeRegressor()\n",
    "knn= KNeighborsRegressor()\n",
    "rf = RandomForestRegressor()\n",
    "\n",
    "#Train all of the model with the dataset\n",
    "\n",
    "reg.fit(x_train,y_train)\n",
    "dt.fit(x_train,y_train)\n",
    "knn.fit(x_train,y_train)\n",
    "rf.fit(x_train,y_train)\n",
    "print(\"All models are trained.\")"
   ]
  },
  {
   "cell_type": "code",
   "execution_count": 34,
   "id": "3b69fbd3",
   "metadata": {},
   "outputs": [
    {
     "name": "stdout",
     "output_type": "stream",
     "text": [
      "reg training score:  0.9875416773325423\n",
      "dt training score:  1.0\n",
      "knn training score:  0.9317465802351281\n",
      "rf training score:  0.9852893505233921\n"
     ]
    }
   ],
   "source": [
    "#check how well the model fits on our training data\n",
    "#print adjusted r2 score\n",
    "\n",
    "print (\"reg training score: \" ,reg.score(x_train,y_train))\n",
    "print (\"dt training score: \", dt.score(x_train,y_train))\n",
    "print (\"knn training score: \", knn.score(x_train,y_train))\n",
    "print (\"rf training score: \", rf.score(x_train,y_train))"
   ]
  },
  {
   "cell_type": "code",
   "execution_count": 35,
   "id": "498eb2af",
   "metadata": {},
   "outputs": [
    {
     "name": "stdout",
     "output_type": "stream",
     "text": [
      "reg test score:  0.9931561998419552\n",
      "dt test score:  0.8155323615530607\n",
      "knn test score:  0.9181874960834268\n",
      "rf test score:  0.9167820478461692\n"
     ]
    }
   ],
   "source": [
    "#check how well the model fits on our test data\n",
    "#adjusted r2 score\n",
    "\n",
    "print (\"reg test score: \" ,reg.score(x_test,y_test))\n",
    "print (\"dt test score: \", dt.score(x_test,y_test))\n",
    "print (\"knn test score: \", knn.score(x_test,y_test))\n",
    "print (\"rf test score: \", rf.score(x_test,y_test))"
   ]
  },
  {
   "cell_type": "markdown",
   "id": "d7058d79",
   "metadata": {},
   "source": [
    "\n",
    "\n",
    "For LinearRegression() the variation of r2 score of train data and test data is small.\n",
    "\n",
    "So the best model for this particular dataset is LinearRegression()\n"
   ]
  },
  {
   "cell_type": "code",
   "execution_count": 36,
   "id": "69ef9a44",
   "metadata": {},
   "outputs": [
    {
     "data": {
      "text/plain": [
       "array([5.34868875, 4.77769916, 5.85522115, 4.21835416, 7.19288862,\n",
       "       4.196321  , 5.87049357, 6.66303731, 3.6679643 , 5.93114327,\n",
       "       5.87937185, 6.33519002, 4.63570877, 4.8316541 , 4.87467095,\n",
       "       6.90046618, 3.71155098, 6.97898606, 6.72190221, 2.92201411,\n",
       "       5.86114986, 3.6476753 , 4.04134923, 5.98015022, 4.77252316,\n",
       "       4.99057804, 5.16898834, 3.9766524 , 7.12249922, 4.65817954,\n",
       "       5.16103567, 4.23300111, 4.47269439, 6.78011272, 7.05825356,\n",
       "       5.05937471])"
      ]
     },
     "execution_count": 36,
     "metadata": {},
     "output_type": "execute_result"
    }
   ],
   "source": [
    "\n",
    "\n",
    "# making predictions on the test data\n",
    "\n",
    "y_pred = reg.predict(x_test)\n",
    "y_pred\n",
    "\n"
   ]
  },
  {
   "cell_type": "code",
   "execution_count": 37,
   "id": "b276f9be",
   "metadata": {},
   "outputs": [
    {
     "data": {
      "image/png": "[encoded data removed]",
      "text/plain": [
       "<Figure size 432x288 with 1 Axes>"
      ]
     },
     "metadata": {
      "needs_background": "light"
     },
     "output_type": "display_data"
    }
   ],
   "source": [
    "# Let's visualize the variation of actual test data and predicted data\n",
    "\n",
    "plt.scatter(y_test, y_pred)\n",
    "plt.xlabel(\"Actual Happiness Score\")\n",
    "plt.ylabel(\"Predicted Happiness Score\")\n",
    "plt.title(\"Actual & Predicted Happiness Score\")\n",
    "plt.show()"
   ]
  },
  {
   "cell_type": "code",
   "execution_count": 38,
   "id": "2a18746e",
   "metadata": {},
   "outputs": [
    {
     "name": "stdout",
     "output_type": "stream",
     "text": [
      "MSE 0.009169104238914911\n",
      "MAE 0.07661396769568302\n",
      "RMSE 0.09575543973537436\n"
     ]
    }
   ],
   "source": [
    "# Calculate MSE, MAE, RMSE\n",
    "\n",
    "from sklearn.metrics import mean_squared_error, mean_absolute_error\n",
    "\n",
    "print (\"MSE\", mean_squared_error(y_test, y_pred))\n",
    "print (\"MAE\", mean_absolute_error(y_test, y_pred))\n",
    "print(\"RMSE\", np.sqrt (mean_squared_error(y_test, y_pred)))"
   ]
  },
  {
   "cell_type": "markdown",
   "id": "68df400d",
   "metadata": {},
   "source": [
    "Finding coeffiecients to easily determine which variable carries more weight"
   ]
  },
  {
   "cell_type": "code",
   "execution_count": 39,
   "id": "bf857c6f",
   "metadata": {},
   "outputs": [
    {
     "data": {
      "text/plain": [
       "array([0.31177502, 0.27531572, 0.28875233, 0.18185331, 0.10286084,\n",
       "       0.52702157])"
      ]
     },
     "execution_count": 39,
     "metadata": {},
     "output_type": "execute_result"
    }
   ],
   "source": [
    "coefficient = reg.coef_\n",
    "coefficient"
   ]
  },
  {
   "cell_type": "code",
   "execution_count": 40,
   "id": "c630b1a6",
   "metadata": {},
   "outputs": [
    {
     "data": {
      "text/html": [
       "<div>\n",
       "<style scoped>\n",
       "    .dataframe tbody tr th:only-of-type {\n",
       "        vertical-align: middle;\n",
       "    }\n",
       "\n",
       "    .dataframe tbody tr th {\n",
       "        vertical-align: top;\n",
       "    }\n",
       "\n",
       "    .dataframe thead th {\n",
       "        text-align: right;\n",
       "    }\n",
       "</style>\n",
       "<table border=\"1\" class=\"dataframe\">\n",
       "  <thead>\n",
       "    <tr style=\"text-align: right;\">\n",
       "      <th></th>\n",
       "      <th>Features</th>\n",
       "      <th>Coefficient</th>\n",
       "    </tr>\n",
       "  </thead>\n",
       "  <tbody>\n",
       "    <tr>\n",
       "      <th>0</th>\n",
       "      <td>GDP_per_capita</td>\n",
       "      <td>0.311775</td>\n",
       "    </tr>\n",
       "    <tr>\n",
       "      <th>1</th>\n",
       "      <td>Family</td>\n",
       "      <td>0.275316</td>\n",
       "    </tr>\n",
       "    <tr>\n",
       "      <th>2</th>\n",
       "      <td>Health_Life</td>\n",
       "      <td>0.288752</td>\n",
       "    </tr>\n",
       "    <tr>\n",
       "      <th>3</th>\n",
       "      <td>Freedom</td>\n",
       "      <td>0.181853</td>\n",
       "    </tr>\n",
       "    <tr>\n",
       "      <th>4</th>\n",
       "      <td>Trust</td>\n",
       "      <td>0.102861</td>\n",
       "    </tr>\n",
       "    <tr>\n",
       "      <th>5</th>\n",
       "      <td>Residual</td>\n",
       "      <td>0.527022</td>\n",
       "    </tr>\n",
       "  </tbody>\n",
       "</table>\n",
       "</div>"
      ],
      "text/plain": [
       "         Features  Coefficient\n",
       "0  GDP_per_capita     0.311775\n",
       "1          Family     0.275316\n",
       "2     Health_Life     0.288752\n",
       "3         Freedom     0.181853\n",
       "4           Trust     0.102861\n",
       "5        Residual     0.527022"
      ]
     },
     "execution_count": 40,
     "metadata": {},
     "output_type": "execute_result"
    }
   ],
   "source": [
    "l=list(zip(x.columns, coefficient))\n",
    "\n",
    "coefficient_details= pd.DataFrame(l, columns=[\"Features\", \"Coefficient\"])\n",
    "coefficient_details"
   ]
  },
  {
   "cell_type": "markdown",
   "id": "08cecc2e",
   "metadata": {},
   "source": [
    "\n",
    "\n",
    "From the output above, we see that Residual(Dystopia Residual) is more correlated with Happiness Score than GDP per capita.\n",
    "\n",
    "Now check wheather my model is overfitted or not.\n"
   ]
  },
  {
   "cell_type": "code",
   "execution_count": 41,
   "id": "f400beef",
   "metadata": {},
   "outputs": [],
   "source": [
    "from sklearn.linear_model import Ridge, Lasso, RidgeCV, LassoCV"
   ]
  },
  {
   "cell_type": "code",
   "execution_count": 42,
   "id": "2ef7e377",
   "metadata": {},
   "outputs": [
    {
     "data": {
      "text/plain": [
       "0.000896395987130531"
      ]
     },
     "execution_count": 42,
     "metadata": {},
     "output_type": "execute_result"
    }
   ],
   "source": [
    "#LASSO Regression\n",
    "\n",
    "lassocv= LassoCV()\n",
    "lassocv.fit(x_train, y_train)\n",
    "alpha= lassocv.alpha_   #best learning rate for LASSO\n",
    "alpha  "
   ]
  },
  {
   "cell_type": "code",
   "execution_count": 43,
   "id": "7057833b",
   "metadata": {},
   "outputs": [
    {
     "name": "stdout",
     "output_type": "stream",
     "text": [
      "Score after applying LASSO regression on the model is : 0.9931569870917651\n"
     ]
    }
   ],
   "source": [
    "lasso_reg=Lasso(alpha)\n",
    "lasso_reg.fit(x_train,y_train)\n",
    "print (\"Score after applying LASSO regression on the model is :\", lasso_reg.score(x_test, y_test))"
   ]
  },
  {
   "cell_type": "markdown",
   "id": "42b19ab9",
   "metadata": {},
   "source": [
    "The model score is unchanged after applying LASSO regression that is the model was not overfitted"
   ]
  },
  {
   "cell_type": "markdown",
   "id": "f4610d97",
   "metadata": {},
   "source": [
    "### LOAD & SAVE THE MODEL"
   ]
  },
  {
   "cell_type": "markdown",
   "id": "5382a0ad",
   "metadata": {},
   "source": [
    "Now , let's save the model for future use."
   ]
  },
  {
   "cell_type": "code",
   "execution_count": 48,
   "id": "f3d429b8",
   "metadata": {},
   "outputs": [],
   "source": [
    "pickle.dump(reg, open(\"happiness_regression_model\", \"wb\"))\n",
    "\n",
    "load_happiness_regression_model= pickle.load(open(\"happiness_regression_model\", \"rb\"))"
   ]
  },
  {
   "cell_type": "code",
   "execution_count": 49,
   "id": "d4757a5d",
   "metadata": {},
   "outputs": [
    {
     "data": {
      "text/plain": [
       "0.9931561998419552"
      ]
     },
     "execution_count": 49,
     "metadata": {},
     "output_type": "execute_result"
    }
   ],
   "source": [
    "# Use \"load_happiness_regression_model\" for nexttime use\n",
    "\n",
    "load_happiness_regression_model.score(x_test, y_test)"
   ]
  },
  {
   "cell_type": "code",
   "execution_count": null,
   "id": "6488271e",
   "metadata": {},
   "outputs": [],
   "source": []
  }
 ],
 "metadata": {
  "kernelspec": {
   "display_name": "Python 3 (ipykernel)",
   "language": "python",
   "name": "python3"
  },
  "language_info": {
   "codemirror_mode": {
    "name": "ipython",
    "version": 3
   },
   "file_extension": ".py",
   "mimetype": "text/x-python",
   "name": "python",
   "nbconvert_exporter": "python",
   "pygments_lexer": "ipython3",
   "version": "3.9.7"
  }
 },
 "nbformat": 4,
 "nbformat_minor": 5
}
